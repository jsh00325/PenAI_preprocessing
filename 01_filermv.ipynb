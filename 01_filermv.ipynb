{
 "cells": [
  {
   "cell_type": "markdown",
   "metadata": {},
   "source": [
    "## 1. File Count (Do not restart!!!)"
   ]
  },
  {
   "cell_type": "markdown",
   "metadata": {},
   "source": [
    "### 1. Tablet Png, Label Check"
   ]
  },
  {
   "cell_type": "code",
   "execution_count": 20,
   "metadata": {},
   "outputs": [
    {
     "name": "stdout",
     "output_type": "stream",
     "text": [
      "Tablet Label count : 4289\n",
      "Tablet Png count : 4289\n"
     ]
    }
   ],
   "source": [
    "import os, json\n",
    "import matplotlib.pyplot as plt\n",
    "\n",
    "path1 = '/home/smobile/Desktop/PENAI_DATA/Tablet_Label/'\n",
    "path2 = '/home/smobile/Desktop/PENAI_DATA/Tablet_Png/'\n",
    "\n",
    "cnt1 = 0\n",
    "cnt2 = 0\n",
    "\n",
    "for json_name in os.listdir(path1):\n",
    "    cnt1+=1\n",
    "\n",
    "for png_name in os.listdir(path2):\n",
    "    cnt2+=1\n",
    "    \n",
    "print('Tablet Label count : {}'.format(cnt1))   \n",
    "print('Tablet Png count : {}'.format(cnt2))"
   ]
  },
  {
   "cell_type": "markdown",
   "metadata": {},
   "source": [
    "### 2. Paper Png, Label Check"
   ]
  },
  {
   "cell_type": "code",
   "execution_count": 21,
   "metadata": {},
   "outputs": [
    {
     "name": "stdout",
     "output_type": "stream",
     "text": [
      "Paper Label count : 31535\n",
      "Paper Png count : 25377\n"
     ]
    }
   ],
   "source": [
    "path3 = '/home/smobile/Desktop/PENAI_DATA/Paper_Label/'\n",
    "path4 = '/home/smobile/Desktop/PENAI_DATA/Paper_Png/'\n",
    "\n",
    "cnt3 = 0\n",
    "cnt4 = 0\n",
    "\n",
    "for json_name in os.listdir(path3):\n",
    "    cnt3+=1\n",
    "\n",
    "for png_name in os.listdir(path4):\n",
    "    cnt4+=1\n",
    "    \n",
    "print('Paper Label count : {}'.format(cnt3))   \n",
    "print('Paper Png count : {}'.format(cnt4))"
   ]
  },
  {
   "cell_type": "markdown",
   "metadata": {},
   "source": [
    "* Paper Label count > Paper Png Count"
   ]
  },
  {
   "cell_type": "markdown",
   "metadata": {},
   "source": [
    "### 3. Remove label without png (because of : paper Label count > Paper Png Count)"
   ]
  },
  {
   "cell_type": "code",
   "execution_count": 22,
   "metadata": {},
   "outputs": [
    {
     "data": {
      "text/plain": [
       "25377"
      ]
     },
     "execution_count": 22,
     "metadata": {},
     "output_type": "execute_result"
    }
   ],
   "source": [
    "lst = [x.split('.')[0] for x in os.listdir(path4)]\n",
    "len(lst)"
   ]
  },
  {
   "cell_type": "code",
   "execution_count": 23,
   "metadata": {},
   "outputs": [],
   "source": [
    "for json_name in os.listdir(path3):\n",
    "    tmp = json_name.split('.')[0]\n",
    "    #if not exist in Png, you need to remove\n",
    "    if lst.count(tmp) == 0 :\n",
    "        os.remove(path3+json_name)"
   ]
  },
  {
   "cell_type": "code",
   "execution_count": 24,
   "metadata": {},
   "outputs": [
    {
     "name": "stdout",
     "output_type": "stream",
     "text": [
      "Paper Label count : 25377\n",
      "Paper Png count : 25377\n"
     ]
    }
   ],
   "source": [
    "path3 = '/home/smobile/Desktop/PENAI_DATA/Paper_Label/'\n",
    "path4 = '/home/smobile/Desktop/PENAI_DATA/Paper_Png/'\n",
    "\n",
    "cnt3 = 0\n",
    "cnt4 = 0\n",
    "\n",
    "for json_name in os.listdir(path3):\n",
    "    cnt3+=1\n",
    "\n",
    "for png_name in os.listdir(path4):\n",
    "    cnt4+=1\n",
    "    \n",
    "print('Paper Label count : {}'.format(cnt3))   \n",
    "print('Paper Png count : {}'.format(cnt4))"
   ]
  }
 ],
 "metadata": {
  "kernelspec": {
   "display_name": "Python 3",
   "language": "python",
   "name": "python3"
  },
  "language_info": {
   "codemirror_mode": {
    "name": "ipython",
    "version": 3
   },
   "file_extension": ".py",
   "mimetype": "text/x-python",
   "name": "python",
   "nbconvert_exporter": "python",
   "pygments_lexer": "ipython3",
   "version": "3.8.10"
  }
 },
 "nbformat": 4,
 "nbformat_minor": 2
}
