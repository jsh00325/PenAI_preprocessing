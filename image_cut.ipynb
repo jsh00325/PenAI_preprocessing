{
 "cells": [
  {
   "cell_type": "code",
   "execution_count": 4,
   "metadata": {},
   "outputs": [],
   "source": [
    "import os, json\n",
    "from PIL import Image"
   ]
  },
  {
   "cell_type": "markdown",
   "metadata": {},
   "source": [
    "TODO: 실행 환경에 맞추어 경로 수정하기!!\n",
    "\n",
    "* `image_path` 손글씨 이미지가 저장된 path\n",
    "* `label_path` 이미지의 레이블 정보가 저장된 path"
   ]
  },
  {
   "cell_type": "code",
   "execution_count": 8,
   "metadata": {},
   "outputs": [],
   "source": [
    "image_path = '.\\\\sample_image\\\\'\n",
    "label_path = '.\\\\sample_label\\\\'"
   ]
  },
  {
   "cell_type": "markdown",
   "metadata": {},
   "source": [
    "TODO: 실행 환경에 맞추어 경로 수정하기!!\n",
    "\n",
    "`save_directory` 잘린 손글씨 이미지를 저장할 path"
   ]
  },
  {
   "cell_type": "code",
   "execution_count": 12,
   "metadata": {},
   "outputs": [],
   "source": [
    "save_directory = ['.\\\\female_word\\\\', '.\\\\male_word\\\\']"
   ]
  },
  {
   "cell_type": "code",
   "execution_count": 15,
   "metadata": {},
   "outputs": [],
   "source": [
    "# label정보를 바탕으로 이미지를 crop하여 저장하는 코드\n",
    "for label_name in os.listdir(label_path) :\n",
    "\tname = label_name.split('.')[0]\n",
    "\twith open(label_path + label_name, 'r', encoding='utf8') as f :\n",
    "\t\tlab = json.load(f)\n",
    "\timg = Image.open(image_path + name + '.png')\n",
    "\twriter_sex = lab['Images']['writer_sex']\n",
    "\n",
    "\tfor idx, box in enumerate(lab[\"bbox\"]) :\n",
    "\t\tcut_img = img.crop((box['x'][0], box['y'][0], box['x'][-1], box['y'][-1]))\n",
    "\t\tcut_img.save(save_directory[writer_sex] + name + '-' + str(idx) + '.png', 'png')"
   ]
  },
  {
   "cell_type": "markdown",
   "metadata": {},
   "source": [
    "TODO:\n",
    "1. 잘려진 이미지 중에서 남녀 성비를 50:50으로 맞추어 데이터 세트 구성\n",
    "2. 이미지를 `0.png`, `1.png`, `2.png` ... 와 같은 방식으로 저장\n",
    "3. DataFrame에 성별 정보와 기타 정보들을 포함하여 csv 파일 생성"
   ]
  }
 ],
 "metadata": {
  "kernelspec": {
   "display_name": "Python 3",
   "language": "python",
   "name": "python3"
  },
  "language_info": {
   "codemirror_mode": {
    "name": "ipython",
    "version": 3
   },
   "file_extension": ".py",
   "mimetype": "text/x-python",
   "name": "python",
   "nbconvert_exporter": "python",
   "pygments_lexer": "ipython3",
   "version": "3.11.6"
  }
 },
 "nbformat": 4,
 "nbformat_minor": 2
}
