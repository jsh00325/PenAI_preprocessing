{
 "cells": [
  {
   "cell_type": "markdown",
   "metadata": {},
   "source": [
    "## Do not restart!!!"
   ]
  },
  {
   "cell_type": "code",
   "execution_count": 16,
   "metadata": {},
   "outputs": [],
   "source": [
    "import os, json\n",
    "from PIL import Image\n",
    "import random"
   ]
  },
  {
   "cell_type": "markdown",
   "metadata": {},
   "source": [
    "한글 판별 함수"
   ]
  },
  {
   "cell_type": "code",
   "execution_count": 17,
   "metadata": {},
   "outputs": [],
   "source": [
    "import sys\n",
    "import re\n",
    "\n",
    "#Check Korea language\n",
    "def isHangul(text):\n",
    "    #Check the Python Version\n",
    "    pyVer3 =  sys.version_info >= (3, 0)\n",
    "\n",
    "    if pyVer3 : # for Ver 3 or later\n",
    "        encText = text\n",
    "    else: # for Ver 2.x\n",
    "        if type(text) is not unicode:\n",
    "            encText = text.decode('utf-8')\n",
    "        else:\n",
    "            encText = text\n",
    "\n",
    "    hanCount = len(re.findall(u'[\\u3130-\\u318F\\uAC00-\\uD7A3]+', encText))\n",
    "    return hanCount > 0"
   ]
  },
  {
   "cell_type": "code",
   "execution_count": 18,
   "metadata": {},
   "outputs": [],
   "source": [
    "image_path = '/home/smobile/Desktop/PENAI_DATA/Paper_Png/'\n",
    "\n",
    "def sampling(label_path, save_path, prefix, n) :\n",
    "\t# n개의 label을 랜덤하게 뽑아서 저장\n",
    "\tpath_list = random.sample(os.listdir(label_path), n)\n",
    "\n",
    "\t# label정보를 바탕으로 이미지를 crop하여 저장하는 코드\n",
    "\tfor idx, label_name in enumerate(path_list) :\n",
    "\t\tname = label_name.split('.')[0]\n",
    "\t\twith open(label_path + label_name, 'r', encoding='utf8') as f :\n",
    "\t\t\tlab = json.load(f)\n",
    "\t\timg = Image.open(image_path + name + '.png')\n",
    "\t\twriter_sex = lab['Images']['writer_sex']\n",
    "\n",
    "\t\t# data가 한글인 이미지 자르고 break하기\n",
    "\t\twhile(1):\n",
    "\t\t\ttmp = random.choice(lab[\"bbox\"])\n",
    "\t\t\tif isHangul(tmp['data']):\n",
    "\t\t\t\tbreak\n",
    "\n",
    "\t\tcut_img = img.crop((tmp['x'][0], tmp['y'][0], tmp['x'][-1], tmp['y'][-1]))\n",
    "\t\tcut_img.save(save_path+ prefix + str(idx) +  '.png', 'png')\n",
    "\t\t# protect duplication\n",
    "\t\tos.remove(label_path + label_name)"
   ]
  },
  {
   "cell_type": "code",
   "execution_count": 19,
   "metadata": {},
   "outputs": [],
   "source": [
    "# label path\n",
    "male_label = '/home/smobile/Desktop/PENAI_DATA/Paper_Label/male/'\n",
    "female_label = '/home/smobile/Desktop/PENAI_DATA/Paper_Label/female/'\n",
    "\n",
    "# male cut immage save path\n",
    "train_male = '/home/smobile/Desktop/PENAI_DATA/male/train/'\n",
    "valid_male = '/home/smobile/Desktop/PENAI_DATA/male/valid/'\n",
    "test_male = '/home/smobile/Desktop/PENAI_DATA/male/test/'\n",
    "\n",
    "# female cut immage save path\n",
    "train_female = '/home/smobile/Desktop/PENAI_DATA/female/train/'\n",
    "valid_female = '/home/smobile/Desktop/PENAI_DATA/female/valid/'\n",
    "test_female = '/home/smobile/Desktop/PENAI_DATA/female/test/'"
   ]
  },
  {
   "cell_type": "code",
   "execution_count": 20,
   "metadata": {},
   "outputs": [
    {
     "ename": "KeyboardInterrupt",
     "evalue": "",
     "output_type": "error",
     "traceback": [
      "\u001b[0;31m---------------------------------------------------------------------------\u001b[0m",
      "\u001b[0;31mKeyboardInterrupt\u001b[0m                         Traceback (most recent call last)",
      "Cell \u001b[0;32mIn[20], line 1\u001b[0m\n\u001b[0;32m----> 1\u001b[0m \u001b[43msampling\u001b[49m\u001b[43m(\u001b[49m\u001b[43mmale_label\u001b[49m\u001b[43m,\u001b[49m\u001b[43m \u001b[49m\u001b[43mtrain_male\u001b[49m\u001b[43m,\u001b[49m\u001b[43m \u001b[49m\u001b[38;5;124;43m'\u001b[39;49m\u001b[38;5;124;43mtrain_male_\u001b[39;49m\u001b[38;5;124;43m'\u001b[39;49m\u001b[43m,\u001b[49m\u001b[43m \u001b[49m\u001b[38;5;241;43m2500\u001b[39;49m\u001b[43m)\u001b[49m\n\u001b[1;32m      2\u001b[0m sampling(male_label, valid_male, \u001b[38;5;124m'\u001b[39m\u001b[38;5;124mvalid_male_\u001b[39m\u001b[38;5;124m'\u001b[39m, \u001b[38;5;241m250\u001b[39m)\n\u001b[1;32m      3\u001b[0m sampling(male_label, test_male, \u001b[38;5;124m'\u001b[39m\u001b[38;5;124mtest_male_\u001b[39m\u001b[38;5;124m'\u001b[39m, \u001b[38;5;241m250\u001b[39m)\n",
      "Cell \u001b[0;32mIn[18], line 17\u001b[0m, in \u001b[0;36msampling\u001b[0;34m(label_path, save_path, prefix, n)\u001b[0m\n\u001b[1;32m     15\u001b[0m \u001b[38;5;66;03m# data가 한글인 이미지 자르고 break하기\u001b[39;00m\n\u001b[1;32m     16\u001b[0m \u001b[38;5;28;01mwhile\u001b[39;00m(\u001b[38;5;241m1\u001b[39m):\n\u001b[0;32m---> 17\u001b[0m \ttmp \u001b[38;5;241m=\u001b[39m \u001b[43mrandom\u001b[49m\u001b[38;5;241;43m.\u001b[39;49m\u001b[43mchoice\u001b[49m\u001b[43m(\u001b[49m\u001b[43mlab\u001b[49m\u001b[43m[\u001b[49m\u001b[38;5;124;43m\"\u001b[39;49m\u001b[38;5;124;43mbbox\u001b[39;49m\u001b[38;5;124;43m\"\u001b[39;49m\u001b[43m]\u001b[49m\u001b[43m)\u001b[49m\n\u001b[1;32m     18\u001b[0m \t\u001b[38;5;28;01mif\u001b[39;00m isHangul(tmp[\u001b[38;5;124m'\u001b[39m\u001b[38;5;124mdata\u001b[39m\u001b[38;5;124m'\u001b[39m]):\n\u001b[1;32m     19\u001b[0m \t\t\u001b[38;5;28;01mbreak\u001b[39;00m\n",
      "File \u001b[0;32m/usr/lib/python3.8/random.py:288\u001b[0m, in \u001b[0;36mRandom.choice\u001b[0;34m(self, seq)\u001b[0m\n\u001b[1;32m    286\u001b[0m \u001b[38;5;250m\u001b[39m\u001b[38;5;124;03m\"\"\"Choose a random element from a non-empty sequence.\"\"\"\u001b[39;00m\n\u001b[1;32m    287\u001b[0m \u001b[38;5;28;01mtry\u001b[39;00m:\n\u001b[0;32m--> 288\u001b[0m     i \u001b[38;5;241m=\u001b[39m \u001b[38;5;28;43mself\u001b[39;49m\u001b[38;5;241;43m.\u001b[39;49m\u001b[43m_randbelow\u001b[49m\u001b[43m(\u001b[49m\u001b[38;5;28;43mlen\u001b[39;49m\u001b[43m(\u001b[49m\u001b[43mseq\u001b[49m\u001b[43m)\u001b[49m\u001b[43m)\u001b[49m\n\u001b[1;32m    289\u001b[0m \u001b[38;5;28;01mexcept\u001b[39;00m \u001b[38;5;167;01mValueError\u001b[39;00m:\n\u001b[1;32m    290\u001b[0m     \u001b[38;5;28;01mraise\u001b[39;00m \u001b[38;5;167;01mIndexError\u001b[39;00m(\u001b[38;5;124m'\u001b[39m\u001b[38;5;124mCannot choose from an empty sequence\u001b[39m\u001b[38;5;124m'\u001b[39m) \u001b[38;5;28;01mfrom\u001b[39;00m \u001b[38;5;28;01mNone\u001b[39;00m\n",
      "File \u001b[0;32m/usr/lib/python3.8/random.py:255\u001b[0m, in \u001b[0;36mRandom._randbelow_with_getrandbits\u001b[0;34m(self, n)\u001b[0m\n\u001b[1;32m    253\u001b[0m getrandbits \u001b[38;5;241m=\u001b[39m \u001b[38;5;28mself\u001b[39m\u001b[38;5;241m.\u001b[39mgetrandbits\n\u001b[1;32m    254\u001b[0m k \u001b[38;5;241m=\u001b[39m n\u001b[38;5;241m.\u001b[39mbit_length()  \u001b[38;5;66;03m# don't use (n-1) here because n can be 1\u001b[39;00m\n\u001b[0;32m--> 255\u001b[0m r \u001b[38;5;241m=\u001b[39m \u001b[43mgetrandbits\u001b[49m\u001b[43m(\u001b[49m\u001b[43mk\u001b[49m\u001b[43m)\u001b[49m          \u001b[38;5;66;03m# 0 <= r < 2**k\u001b[39;00m\n\u001b[1;32m    256\u001b[0m \u001b[38;5;28;01mwhile\u001b[39;00m r \u001b[38;5;241m>\u001b[39m\u001b[38;5;241m=\u001b[39m n:\n\u001b[1;32m    257\u001b[0m     r \u001b[38;5;241m=\u001b[39m getrandbits(k)\n",
      "\u001b[0;31mKeyboardInterrupt\u001b[0m: "
     ]
    }
   ],
   "source": [
    "sampling(male_label, train_male, 'train_male_', 2500)\n",
    "sampling(male_label, valid_male, 'valid_male_', 250)\n",
    "sampling(male_label, test_male, 'test_male_', 250)\n",
    "\n",
    "sampling(female_label, train_female, 'train_female_', 2500)\n",
    "sampling(female_label, valid_female, 'valid_female_', 250)\n",
    "sampling(female_label, test_female, 'test_female_', 250)"
   ]
  }
 ],
 "metadata": {
  "kernelspec": {
   "display_name": "Python 3",
   "language": "python",
   "name": "python3"
  },
  "language_info": {
   "codemirror_mode": {
    "name": "ipython",
    "version": 3
   },
   "file_extension": ".py",
   "mimetype": "text/x-python",
   "name": "python",
   "nbconvert_exporter": "python",
   "pygments_lexer": "ipython3",
   "version": "3.8.10"
  }
 },
 "nbformat": 4,
 "nbformat_minor": 2
}
