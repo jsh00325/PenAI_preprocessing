{
 "cells": [
  {
   "cell_type": "markdown",
   "metadata": {},
   "source": [
    "## Do not restart!!!"
   ]
  },
  {
   "cell_type": "code",
   "execution_count": 21,
   "metadata": {},
   "outputs": [],
   "source": [
    "import os, json\n",
    "from PIL import Image\n",
    "import random"
   ]
  },
  {
   "cell_type": "markdown",
   "metadata": {},
   "source": [
    "한글 판별 함수"
   ]
  },
  {
   "cell_type": "code",
   "execution_count": 22,
   "metadata": {},
   "outputs": [],
   "source": [
    "import sys\n",
    "import re\n",
    "\n",
    "#Check Korea language\n",
    "def isHangul(text):\n",
    "    #Check the Python Version\n",
    "    pyVer3 =  sys.version_info >= (3, 0)\n",
    "\n",
    "    if pyVer3 : # for Ver 3 or later\n",
    "        encText = text\n",
    "    else: # for Ver 2.x\n",
    "        if type(text) is not unicode:\n",
    "            encText = text.decode('utf-8')\n",
    "        else:\n",
    "            encText = text\n",
    "\n",
    "    hanCount = len(re.findall(u'[\\u3130-\\u318F\\uAC00-\\uD7A3]+', encText))\n",
    "    return hanCount > 0"
   ]
  },
  {
   "cell_type": "code",
   "execution_count": 23,
   "metadata": {},
   "outputs": [],
   "source": [
    "image_path = '/home/smobile/Desktop/PENAI_DATA/Paper_Png/'\n",
    "\n",
    "def sampling(label_path, save_path, prefix, n) :\n",
    "\t# n개의 label을 랜덤하게 뽑아서 저장\n",
    "\tpath_list = random.sample(os.listdir(label_path), n)\n",
    "\n",
    "\t# label정보를 바탕으로 이미지를 crop하여 저장하는 코드\n",
    "\tfor idx, label_name in enumerate(path_list) :\n",
    "\t\tname = label_name.split('.')[0]\n",
    "\t\twith open(label_path + label_name, 'r', encoding='utf8') as f :\n",
    "\t\t\tlab = json.load(f)\n",
    "\t\timg = Image.open(image_path + name + '.png')\n",
    "\t\twriter_sex = lab['Images']['writer_sex']\n",
    "\n",
    "\t\t# data가 한글인 이미지 자르고 break하기\n",
    "\t\twhile(1):\n",
    "\t\t\ttmp = random.choice(lab[\"bbox\"])\n",
    "\t\t\tif isHangul(tmp['data']):\n",
    "\t\t\t\tbreak\n",
    "\n",
    "\t\tcut_img = img.crop((tmp['x'][0], tmp['y'][0], tmp['x'][-1], tmp['y'][-1]))\n",
    "\t\tcut_img.save(save_path+ prefix + str(idx) +  '.png', 'png')\n",
    "\t\t# protect duplication\n",
    "\t\tos.remove(label_path + label_name)"
   ]
  },
  {
   "cell_type": "code",
   "execution_count": 24,
   "metadata": {},
   "outputs": [],
   "source": [
    "# label path\n",
    "male_label = '/home/smobile/Desktop/PENAI_DATA/Paper_Label/male/'\n",
    "female_label = '/home/smobile/Desktop/PENAI_DATA/Paper_Label/female/'\n",
    "\n",
    "# male cut immage save path\n",
    "train_male = '/home/smobile/Desktop/PENAI_DATA/male/train/'\n",
    "valid_male = '/home/smobile/Desktop/PENAI_DATA/male/valid/'\n",
    "test_male = '/home/smobile/Desktop/PENAI_DATA/male/test/'\n",
    "\n",
    "# female cut immage save path\n",
    "train_female = '/home/smobile/Desktop/PENAI_DATA/female/train/'\n",
    "valid_female = '/home/smobile/Desktop/PENAI_DATA/female/valid/'\n",
    "test_female = '/home/smobile/Desktop/PENAI_DATA/female/test/'"
   ]
  },
  {
   "cell_type": "code",
   "execution_count": 25,
   "metadata": {},
   "outputs": [],
   "source": [
    "sampling(male_label, train_male, 'train_male_', 2500)\n",
    "sampling(male_label, valid_male, 'valid_male_', 250)\n",
    "sampling(male_label, test_male, 'test_male_', 250)\n",
    "\n",
    "sampling(female_label, train_female, 'train_female_', 2500)\n",
    "sampling(female_label, valid_female, 'valid_female_', 250)\n",
    "sampling(female_label, test_female, 'test_female_', 250)"
   ]
  }
 ],
 "metadata": {
  "kernelspec": {
   "display_name": "Python 3",
   "language": "python",
   "name": "python3"
  },
  "language_info": {
   "codemirror_mode": {
    "name": "ipython",
    "version": 3
   },
   "file_extension": ".py",
   "mimetype": "text/x-python",
   "name": "python",
   "nbconvert_exporter": "python",
   "pygments_lexer": "ipython3",
   "version": "3.8.10"
  }
 },
 "nbformat": 4,
 "nbformat_minor": 2
}
