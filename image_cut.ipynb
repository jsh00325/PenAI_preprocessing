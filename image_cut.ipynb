{
 "cells": [
  {
   "cell_type": "code",
   "execution_count": 2,
   "metadata": {},
   "outputs": [],
   "source": [
    "import os, json\n",
    "from PIL import Image\n",
    "import random"
   ]
  },
  {
   "cell_type": "markdown",
   "metadata": {},
   "source": [
    "TODO: 실행 환경에 맞추어 경로 수정하기!!\n",
    "\n",
    "* `image_path` 손글씨 이미지가 저장된 path\n",
    "* `label_path` 이미지의 레이블 정보가 저장된 path"
   ]
  },
  {
   "cell_type": "code",
   "execution_count": 3,
   "metadata": {},
   "outputs": [],
   "source": [
    "image_path = '/Users/oh_je__/Desktop/PenAI_preprocessing/sample_png/'\n",
    "label_path = '/Users/oh_je__/Desktop/PenAI_preprocessing/sample_label/'"
   ]
  },
  {
   "cell_type": "markdown",
   "metadata": {},
   "source": [
    "TODO: 실행 환경에 맞추어 경로 수정하기!!\n",
    "\n",
    "`save_directory` 잘린 손글씨 이미지를 저장할 path"
   ]
  },
  {
   "cell_type": "markdown",
   "metadata": {},
   "source": [
    "한글 판별 함수"
   ]
  },
  {
   "cell_type": "code",
   "execution_count": 4,
   "metadata": {},
   "outputs": [],
   "source": [
    "import sys\n",
    "import re\n",
    "\n",
    "def isHangul(text):\n",
    "    #Check the Python Version\n",
    "    pyVer3 =  sys.version_info >= (3, 0)\n",
    "\n",
    "    if pyVer3 : # for Ver 3 or later\n",
    "        encText = text\n",
    "    else: # for Ver 2.x\n",
    "        if type(text) is not unicode:\n",
    "            encText = text.decode('utf-8')\n",
    "        else:\n",
    "            encText = text\n",
    "\n",
    "    hanCount = len(re.findall(u'[\\u3130-\\u318F\\uAC00-\\uD7A3]+', encText))\n",
    "    return hanCount > 0"
   ]
  },
  {
   "cell_type": "code",
   "execution_count": 19,
   "metadata": {},
   "outputs": [],
   "source": [
    "save_path = '/Users/oh_je__/Desktop/PenAI_preprocessing/test_path/'"
   ]
  },
  {
   "cell_type": "code",
   "execution_count": 20,
   "metadata": {},
   "outputs": [],
   "source": [
    "def sampling(label_path, save_path, n) :\n",
    "\t# n개의 label을 랜덤하게 뽑아서 저장\n",
    "\tpath_list = random.sample(os.listdir(label_path), n)\n",
    "\n",
    "\t# label정보를 바탕으로 이미지를 crop하여 저장하는 코드\n",
    "\tfor label_name in path_list :\n",
    "\t\tname = label_name.split('.')[0]\n",
    "\t\twith open(label_path + label_name, 'r', encoding='utf8') as f :\n",
    "\t\t\tlab = json.load(f)\n",
    "\t\timg = Image.open(image_path + name + '.png')\n",
    "\t\twriter_sex = lab['Images']['writer_sex']\n",
    "\n",
    "\t\t# data가 한글인 이미지 자르고 break하기\n",
    "\t\twhile(1):\n",
    "\t\t\ttmp = random.choice(lab[\"bbox\"])\n",
    "\t\t\tif isHangul(tmp['data']):\n",
    "\t\t\t\tbreak\n",
    "\n",
    "\t\tcut_img = img.crop((tmp['x'][0], tmp['y'][0], tmp['x'][-1], tmp['y'][-1]))\n",
    "\t\tcut_img.save(save_path+ name + '-' + 'm' + '.png', 'png')\n",
    "\t\tos.remove(label_path + label_name)"
   ]
  },
  {
   "cell_type": "code",
   "execution_count": 21,
   "metadata": {},
   "outputs": [],
   "source": [
    "#0이 여자, 1이 여자.\n",
    "sampling(label_path, save_path, 3)"
   ]
  }
 ],
 "metadata": {
  "kernelspec": {
   "display_name": "Python 3",
   "language": "python",
   "name": "python3"
  },
  "language_info": {
   "codemirror_mode": {
    "name": "ipython",
    "version": 3
   },
   "file_extension": ".py",
   "mimetype": "text/x-python",
   "name": "python",
   "nbconvert_exporter": "python",
   "pygments_lexer": "ipython3",
   "version": "3.12.2"
  }
 },
 "nbformat": 4,
 "nbformat_minor": 2
}
