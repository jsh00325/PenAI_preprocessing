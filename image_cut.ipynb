{
 "cells": [
  {
   "cell_type": "code",
   "execution_count": 62,
   "metadata": {},
   "outputs": [],
   "source": [
    "import os, json\n",
    "from PIL import Image\n",
    "import random"
   ]
  },
  {
   "cell_type": "markdown",
   "metadata": {},
   "source": [
    "TODO: 실행 환경에 맞추어 경로 수정하기!!\n",
    "\n",
    "* `image_path` 손글씨 이미지가 저장된 path\n",
    "* `label_path` 이미지의 레이블 정보가 저장된 path"
   ]
  },
  {
   "cell_type": "code",
   "execution_count": 63,
   "metadata": {},
   "outputs": [],
   "source": [
    "image_path = '/Users/oh_je__/Desktop/PenAI_preprocessing/sample_png/'\n",
    "label_path = '/Users/oh_je__/Desktop/PenAI_preprocessing/sample_label/'"
   ]
  },
  {
   "cell_type": "markdown",
   "metadata": {},
   "source": [
    "TODO: 실행 환경에 맞추어 경로 수정하기!!\n",
    "\n",
    "`save_directory` 잘린 손글씨 이미지를 저장할 path"
   ]
  },
  {
   "cell_type": "markdown",
   "metadata": {},
   "source": [
    "한글 판별 함수"
   ]
  },
  {
   "cell_type": "code",
   "execution_count": 64,
   "metadata": {},
   "outputs": [],
   "source": [
    "import sys\n",
    "import re\n",
    "\n",
    "def isHangul(text):\n",
    "    #Check the Python Version\n",
    "    pyVer3 =  sys.version_info >= (3, 0)\n",
    "\n",
    "    if pyVer3 : # for Ver 3 or later\n",
    "        encText = text\n",
    "    else: # for Ver 2.x\n",
    "        if type(text) is not unicode:\n",
    "            encText = text.decode('utf-8')\n",
    "        else:\n",
    "            encText = text\n",
    "\n",
    "    hanCount = len(re.findall(u'[\\u3130-\\u318F\\uAC00-\\uD7A3]+', encText))\n",
    "    return hanCount > 0"
   ]
  },
  {
   "cell_type": "code",
   "execution_count": 65,
   "metadata": {},
   "outputs": [],
   "source": [
    "save_directory = ['/Users/oh_je__/Desktop/PenAI_preprocessing/female_word/', '/Users/oh_je__/Desktop/PenAI_preprocessing/male_word/']"
   ]
  },
  {
   "cell_type": "code",
   "execution_count": 66,
   "metadata": {},
   "outputs": [],
   "source": [
    "# label정보를 바탕으로 이미지를 crop하여 저장하는 코드\n",
    "for label_name in os.listdir(label_path) :\n",
    "\tname = label_name.split('.')[0]\n",
    "\twith open(label_path + label_name, 'r', encoding='utf8') as f :\n",
    "\t\tlab = json.load(f)\n",
    "\timg = Image.open(image_path + name + '.png')\n",
    "\twriter_sex = lab['Images']['writer_sex']\n",
    "\n",
    "\t# data가 한글인 이미지 자르고 break하기\n",
    "\twhile(1):\n",
    "\t\ttmp = random.choice(lab[\"bbox\"])\n",
    "\t\tif isHangul(tmp['data']):\n",
    "\t\t\tbreak\n",
    "\n",
    "\tcut_img = img.crop((tmp['x'][0], tmp['y'][0], tmp['x'][-1], tmp['y'][-1]))\n",
    "\tcut_img.save(save_directory[writer_sex] + name + '-' + 'm' + '.png', 'png')"
   ]
  },
  {
   "cell_type": "code",
   "execution_count": 67,
   "metadata": {},
   "outputs": [
    {
     "data": {
      "text/plain": [
       "0"
      ]
     },
     "execution_count": 67,
     "metadata": {},
     "output_type": "execute_result"
    }
   ],
   "source": [
    "#0이 여자, 1이 여자.\n",
    "writer_sex"
   ]
  },
  {
   "cell_type": "markdown",
   "metadata": {},
   "source": [
    "TODO:\n",
    "1. 잘려진 이미지 중에서 남녀 성비를 50:50으로 맞추어 데이터 세트 구성\n",
    "2. 이미지를 `0.png`, `1.png`, `2.png` ... 와 같은 방식으로 저장\n",
    "3. DataFrame에 성별 정보와 기타 정보들을 포함하여 csv 파일 생성"
   ]
  },
  {
   "cell_type": "code",
   "execution_count": null,
   "metadata": {},
   "outputs": [],
   "source": []
  }
 ],
 "metadata": {
  "kernelspec": {
   "display_name": "Python 3",
   "language": "python",
   "name": "python3"
  },
  "language_info": {
   "codemirror_mode": {
    "name": "ipython",
    "version": 3
   },
   "file_extension": ".py",
   "mimetype": "text/x-python",
   "name": "python",
   "nbconvert_exporter": "python",
   "pygments_lexer": "ipython3",
   "version": "3.12.2"
  }
 },
 "nbformat": 4,
 "nbformat_minor": 2
}
