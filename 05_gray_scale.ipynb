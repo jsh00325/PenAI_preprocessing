{
 "cells": [
  {
   "cell_type": "markdown",
   "metadata": {},
   "source": [
    "# 이미지를 grayscale로 변환하여 저장하는 코드"
   ]
  },
  {
   "cell_type": "code",
   "execution_count": 3,
   "metadata": {},
   "outputs": [
    {
     "name": "stdout",
     "output_type": "stream",
     "text": [
      "Requirement already satisfied: opencv-python in /home/smobile/.local/lib/python3.8/site-packages (4.9.0.80)\n",
      "Requirement already satisfied: numpy in /home/smobile/.local/lib/python3.8/site-packages (1.24.4)\n",
      "Requirement already satisfied: Pillow in /home/smobile/.local/lib/python3.8/site-packages (10.2.0)\n",
      "Note: you may need to restart the kernel to use updated packages.\n"
     ]
    }
   ],
   "source": [
    "pip install opencv-python numpy Pillow"
   ]
  },
  {
   "cell_type": "code",
   "execution_count": 5,
   "metadata": {},
   "outputs": [],
   "source": [
    "import cv2\n",
    "import os\n",
    "import numpy as np\n",
    "\n",
    "def save_grayscale_image(path, output_path) :\n",
    "    if not os.path.exists(output_path):\n",
    "        os.makedirs(output_path)\n",
    "\n",
    "    imagePaths = [os.path.join(path, file_name) for file_name in os.listdir(path)]\n",
    "    count = 0\n",
    "\n",
    "    for imagePath in imagePaths:\n",
    "        try:\n",
    "            img = cv2.imread(imagePath, cv2.IMREAD_GRAYSCALE)\n",
    "            if img is None:\n",
    "                raise ValueError(\"Image not loaded correctly.\")\n",
    "            save_path = os.path.join(output_path, f\"Gray_{count + 1}.png\")\n",
    "            # print(f\"Saving to: {save_path}\")\n",
    "            result = cv2.imwrite(save_path, img)\n",
    "            if not result:\n",
    "                print(f\"Failed to write image to {save_path}\")\n",
    "            count += 1\n",
    "            # print(img.shape)  # 배열의 모양을 출력\n",
    "        except Exception as e:\n",
    "            print(f\"Error processing {imagePath}: {e}\")\n",
    "\n",
    "    outputimagePaths = [os.path.join(output_path, file_name) for file_name in os.listdir(output_path)]\n",
    "    print(len(outputimagePaths))\n",
    "    print(\"All Done\")\n"
   ]
  },
  {
   "cell_type": "code",
   "execution_count": 6,
   "metadata": {},
   "outputs": [
    {
     "name": "stdout",
     "output_type": "stream",
     "text": [
      "2500\n",
      "All Done\n",
      "250\n",
      "All Done\n",
      "250\n",
      "All Done\n",
      "2500\n",
      "All Done\n",
      "250\n",
      "All Done\n",
      "250\n",
      "All Done\n"
     ]
    }
   ],
   "source": [
    "sex, target = ['female', 'male'], ['train', 'valid', 'test']\n",
    "for s in sex :\n",
    "    for t in target :\n",
    "        save_grayscale_image('./{}/{}'.format(s, t), './{}_grayscale/{}'.format(s, t))"
   ]
  }
 ],
 "metadata": {
  "kernelspec": {
   "display_name": "Python 3",
   "language": "python",
   "name": "python3"
  },
  "language_info": {
   "codemirror_mode": {
    "name": "ipython",
    "version": 3
   },
   "file_extension": ".py",
   "mimetype": "text/x-python",
   "name": "python",
   "nbconvert_exporter": "python",
   "pygments_lexer": "ipython3",
   "version": "3.8.10"
  }
 },
 "nbformat": 4,
 "nbformat_minor": 2
}
