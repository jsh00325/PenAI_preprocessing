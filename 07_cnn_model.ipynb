{
 "cells": [
  {
   "cell_type": "code",
   "execution_count": 22,
   "metadata": {},
   "outputs": [],
   "source": [
    "import tensorflow as tf\n",
    "import numpy as np\n",
    "import tensorflow.keras\n",
    "\n",
    "np.random.seed(20)"
   ]
  },
  {
   "cell_type": "code",
   "execution_count": 23,
   "metadata": {},
   "outputs": [],
   "source": [
    "X_train, y_train = np.load('X_train.npy'), np.load('y_train.npy')\n",
    "X_valid, y_valid = np.load('X_valid.npy'), np.load('y_valid.npy')\n",
    "X_test, y_test = np.load('X_test.npy'), np.load('y_test.npy')"
   ]
  },
  {
   "cell_type": "code",
   "execution_count": 24,
   "metadata": {},
   "outputs": [],
   "source": [
    "# cnn binary classification model - input shape is 125 x 250 x 1 kernel size is 3 x 3\n",
    "model = tf.keras.models.Sequential([\n",
    "    tf.keras.layers.Conv2D(32, (3, 3), activation='relu', input_shape=(125, 250, 1)),\n",
    "    tf.keras.layers.MaxPooling2D((2, 2)),\n",
    "    tf.keras.layers.Conv2D(64, (3, 3), activation='relu'),\n",
    "    tf.keras.layers.MaxPooling2D((2, 2)),\n",
    "    tf.keras.layers.Conv2D(64, (3, 3), activation='relu'),\n",
    "    tf.keras.layers.Flatten(),\n",
    "    tf.keras.layers.Dense(64, activation='relu'),\n",
    "    tf.keras.layers.Dense(1, activation='sigmoid')\n",
    "])"
   ]
  },
  {
   "cell_type": "code",
   "execution_count": 25,
   "metadata": {},
   "outputs": [],
   "source": [
    "# copile model with sgd, adam\n",
    "model.compile(optimizer='sgd',\n",
    "              loss='binary_crossentropy',\n",
    "              metrics=['accuracy'])"
   ]
  },
  {
   "cell_type": "code",
   "execution_count": 26,
   "metadata": {},
   "outputs": [
    {
     "name": "stdout",
     "output_type": "stream",
     "text": [
      "Epoch 1/50\n",
      "157/157 [==============================] - 2s 13ms/step - loss: 0.6944 - accuracy: 0.4908 - val_loss: 0.6929 - val_accuracy: 0.5000\n",
      "Epoch 2/50\n",
      "157/157 [==============================] - 2s 11ms/step - loss: 0.6927 - accuracy: 0.5108 - val_loss: 0.6922 - val_accuracy: 0.5240\n",
      "Epoch 3/50\n",
      "157/157 [==============================] - 2s 11ms/step - loss: 0.6919 - accuracy: 0.5214 - val_loss: 0.6912 - val_accuracy: 0.5200\n",
      "Epoch 4/50\n",
      "157/157 [==============================] - 2s 11ms/step - loss: 0.6905 - accuracy: 0.5346 - val_loss: 0.6897 - val_accuracy: 0.5420\n",
      "Epoch 5/50\n",
      "157/157 [==============================] - 2s 12ms/step - loss: 0.6878 - accuracy: 0.5504 - val_loss: 0.6940 - val_accuracy: 0.5000\n",
      "Epoch 6/50\n",
      "157/157 [==============================] - 2s 12ms/step - loss: 0.6841 - accuracy: 0.5786 - val_loss: 0.6879 - val_accuracy: 0.5000\n",
      "Epoch 7/50\n",
      "157/157 [==============================] - 2s 12ms/step - loss: 0.6777 - accuracy: 0.5864 - val_loss: 0.6762 - val_accuracy: 0.5900\n",
      "Epoch 8/50\n",
      "157/157 [==============================] - 2s 12ms/step - loss: 0.6715 - accuracy: 0.6058 - val_loss: 0.6708 - val_accuracy: 0.5740\n",
      "Epoch 9/50\n",
      "157/157 [==============================] - 2s 14ms/step - loss: 0.6631 - accuracy: 0.6196 - val_loss: 0.6632 - val_accuracy: 0.6180\n",
      "Epoch 10/50\n",
      "157/157 [==============================] - 2s 14ms/step - loss: 0.6559 - accuracy: 0.6292 - val_loss: 0.6613 - val_accuracy: 0.6260\n",
      "Epoch 11/50\n",
      "157/157 [==============================] - 2s 14ms/step - loss: 0.6510 - accuracy: 0.6318 - val_loss: 0.6561 - val_accuracy: 0.6240\n",
      "Epoch 12/50\n",
      "157/157 [==============================] - 2s 14ms/step - loss: 0.6472 - accuracy: 0.6388 - val_loss: 0.6724 - val_accuracy: 0.5740\n",
      "Epoch 13/50\n",
      "157/157 [==============================] - 2s 14ms/step - loss: 0.6427 - accuracy: 0.6444 - val_loss: 0.6535 - val_accuracy: 0.6220\n",
      "Epoch 14/50\n",
      "157/157 [==============================] - 2s 14ms/step - loss: 0.6401 - accuracy: 0.6440 - val_loss: 0.6591 - val_accuracy: 0.6460\n",
      "Epoch 15/50\n",
      "157/157 [==============================] - 2s 14ms/step - loss: 0.6377 - accuracy: 0.6428 - val_loss: 0.6500 - val_accuracy: 0.6280\n",
      "Epoch 16/50\n",
      "157/157 [==============================] - 2s 14ms/step - loss: 0.6334 - accuracy: 0.6512 - val_loss: 0.6437 - val_accuracy: 0.6400\n",
      "Epoch 17/50\n",
      "157/157 [==============================] - 2s 14ms/step - loss: 0.6323 - accuracy: 0.6428 - val_loss: 0.6554 - val_accuracy: 0.6320\n",
      "Epoch 18/50\n",
      "157/157 [==============================] - 2s 14ms/step - loss: 0.6279 - accuracy: 0.6586 - val_loss: 0.6764 - val_accuracy: 0.5800\n",
      "Epoch 19/50\n",
      "157/157 [==============================] - 2s 14ms/step - loss: 0.6235 - accuracy: 0.6584 - val_loss: 0.6665 - val_accuracy: 0.6540\n",
      "Epoch 20/50\n",
      "157/157 [==============================] - 2s 14ms/step - loss: 0.6213 - accuracy: 0.6560 - val_loss: 0.6372 - val_accuracy: 0.6560\n",
      "Epoch 21/50\n",
      "157/157 [==============================] - 2s 14ms/step - loss: 0.6157 - accuracy: 0.6676 - val_loss: 0.6368 - val_accuracy: 0.6580\n",
      "Epoch 22/50\n",
      "157/157 [==============================] - 2s 14ms/step - loss: 0.6081 - accuracy: 0.6740 - val_loss: 0.6984 - val_accuracy: 0.6020\n",
      "Epoch 23/50\n",
      "157/157 [==============================] - 2s 14ms/step - loss: 0.6045 - accuracy: 0.6790 - val_loss: 0.6911 - val_accuracy: 0.5680\n",
      "Epoch 24/50\n",
      "157/157 [==============================] - 2s 14ms/step - loss: 0.5974 - accuracy: 0.6902 - val_loss: 0.6507 - val_accuracy: 0.6540\n",
      "Epoch 25/50\n",
      "157/157 [==============================] - 2s 14ms/step - loss: 0.5929 - accuracy: 0.6926 - val_loss: 0.6491 - val_accuracy: 0.6380\n",
      "Epoch 26/50\n",
      "157/157 [==============================] - 2s 14ms/step - loss: 0.5819 - accuracy: 0.6920 - val_loss: 0.7301 - val_accuracy: 0.5480\n",
      "Epoch 27/50\n",
      "157/157 [==============================] - 2s 14ms/step - loss: 0.5810 - accuracy: 0.6948 - val_loss: 0.6465 - val_accuracy: 0.6720\n",
      "Epoch 28/50\n",
      "157/157 [==============================] - 2s 15ms/step - loss: 0.5676 - accuracy: 0.7090 - val_loss: 0.6595 - val_accuracy: 0.6580\n",
      "Epoch 29/50\n",
      "157/157 [==============================] - 2s 14ms/step - loss: 0.5591 - accuracy: 0.7138 - val_loss: 0.7113 - val_accuracy: 0.6060\n",
      "Epoch 30/50\n",
      "157/157 [==============================] - 2s 13ms/step - loss: 0.5483 - accuracy: 0.7254 - val_loss: 0.6591 - val_accuracy: 0.6440\n",
      "Epoch 31/50\n",
      "157/157 [==============================] - 2s 12ms/step - loss: 0.5423 - accuracy: 0.7276 - val_loss: 0.7223 - val_accuracy: 0.6060\n",
      "Epoch 32/50\n",
      "157/157 [==============================] - 2s 12ms/step - loss: 0.5254 - accuracy: 0.7390 - val_loss: 0.6723 - val_accuracy: 0.6620\n",
      "Epoch 33/50\n",
      "157/157 [==============================] - 2s 12ms/step - loss: 0.5187 - accuracy: 0.7432 - val_loss: 0.6770 - val_accuracy: 0.6160\n",
      "Epoch 34/50\n",
      "157/157 [==============================] - 2s 12ms/step - loss: 0.5010 - accuracy: 0.7606 - val_loss: 0.7260 - val_accuracy: 0.6360\n",
      "Epoch 35/50\n",
      "157/157 [==============================] - 2s 12ms/step - loss: 0.4884 - accuracy: 0.7694 - val_loss: 0.8795 - val_accuracy: 0.5420\n",
      "Epoch 36/50\n",
      "157/157 [==============================] - 2s 14ms/step - loss: 0.4699 - accuracy: 0.7756 - val_loss: 0.7878 - val_accuracy: 0.5480\n",
      "Epoch 37/50\n",
      "157/157 [==============================] - 2s 15ms/step - loss: 0.4507 - accuracy: 0.7932 - val_loss: 0.7398 - val_accuracy: 0.6100\n",
      "Epoch 38/50\n",
      "157/157 [==============================] - 2s 14ms/step - loss: 0.4347 - accuracy: 0.8036 - val_loss: 0.7490 - val_accuracy: 0.6340\n",
      "Epoch 39/50\n",
      "157/157 [==============================] - 2s 12ms/step - loss: 0.4042 - accuracy: 0.8212 - val_loss: 0.7579 - val_accuracy: 0.6220\n",
      "Epoch 40/50\n",
      "157/157 [==============================] - 2s 12ms/step - loss: 0.3918 - accuracy: 0.8262 - val_loss: 1.1479 - val_accuracy: 0.5280\n",
      "Epoch 41/50\n",
      "157/157 [==============================] - 2s 12ms/step - loss: 0.3692 - accuracy: 0.8398 - val_loss: 0.8582 - val_accuracy: 0.5720\n",
      "Epoch 42/50\n",
      "157/157 [==============================] - 2s 12ms/step - loss: 0.3424 - accuracy: 0.8562 - val_loss: 0.9927 - val_accuracy: 0.6280\n",
      "Epoch 43/50\n",
      "157/157 [==============================] - 2s 12ms/step - loss: 0.3289 - accuracy: 0.8620 - val_loss: 0.8989 - val_accuracy: 0.6220\n",
      "Epoch 44/50\n",
      "157/157 [==============================] - 2s 12ms/step - loss: 0.2838 - accuracy: 0.8900 - val_loss: 0.9309 - val_accuracy: 0.6360\n",
      "Epoch 45/50\n",
      "157/157 [==============================] - 2s 12ms/step - loss: 0.2707 - accuracy: 0.8928 - val_loss: 0.9200 - val_accuracy: 0.6320\n",
      "Epoch 46/50\n",
      "157/157 [==============================] - 2s 12ms/step - loss: 0.2461 - accuracy: 0.9040 - val_loss: 0.9958 - val_accuracy: 0.6180\n",
      "Epoch 47/50\n",
      "157/157 [==============================] - 2s 12ms/step - loss: 0.2006 - accuracy: 0.9286 - val_loss: 1.3070 - val_accuracy: 0.5740\n",
      "Epoch 48/50\n",
      "157/157 [==============================] - 2s 12ms/step - loss: 0.1675 - accuracy: 0.9434 - val_loss: 1.3268 - val_accuracy: 0.6160\n",
      "Epoch 49/50\n",
      "157/157 [==============================] - 2s 12ms/step - loss: 0.1641 - accuracy: 0.9426 - val_loss: 1.2718 - val_accuracy: 0.6000\n",
      "Epoch 50/50\n",
      "157/157 [==============================] - 2s 12ms/step - loss: 0.1224 - accuracy: 0.9578 - val_loss: 1.4827 - val_accuracy: 0.5900\n"
     ]
    }
   ],
   "source": [
    "# train model\n",
    "history = model.fit(X_train, y_train, epochs=50, validation_data=(X_valid, y_valid))"
   ]
  },
  {
   "cell_type": "code",
   "execution_count": 27,
   "metadata": {},
   "outputs": [
    {
     "name": "stdout",
     "output_type": "stream",
     "text": [
      "16/16 [==============================] - 0s 4ms/step - loss: 1.4630 - accuracy: 0.5680\n"
     ]
    }
   ],
   "source": [
    "# evaluate model\n",
    "test_loss, test_acc = model.evaluate(X_test, y_test)"
   ]
  },
  {
   "cell_type": "code",
   "execution_count": 28,
   "metadata": {},
   "outputs": [
    {
     "data": {
      "image/png": "[encoded data removed]",
      "text/plain": [
       "<Figure size 640x480 with 1 Axes>"
      ]
     },
     "metadata": {},
     "output_type": "display_data"
    }
   ],
   "source": [
    "# plot training history for loss\n",
    "import matplotlib.pyplot as plt\n",
    "plt.plot(history.history['loss'])\n",
    "plt.plot(history.history['val_loss'])\n",
    "plt.title('model loss')\n",
    "plt.ylabel('loss')\n",
    "plt.xlabel('epoch')\n",
    "plt.legend(['train', 'validation'], loc='upper left')\n",
    "plt.show()"
   ]
  },
  {
   "cell_type": "code",
   "execution_count": null,
   "metadata": {},
   "outputs": [],
   "source": []
  }
 ],
 "metadata": {
  "kernelspec": {
   "display_name": "test",
   "language": "python",
   "name": "python3"
  },
  "language_info": {
   "codemirror_mode": {
    "name": "ipython",
    "version": 3
   },
   "file_extension": ".py",
   "mimetype": "text/x-python",
   "name": "python",
   "nbconvert_exporter": "python",
   "pygments_lexer": "ipython3",
   "version": "3.8.17"
  }
 },
 "nbformat": 4,
 "nbformat_minor": 2
}
